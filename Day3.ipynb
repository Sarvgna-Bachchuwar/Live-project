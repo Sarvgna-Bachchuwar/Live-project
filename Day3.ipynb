{
  "nbformat": 4,
  "nbformat_minor": 0,
  "metadata": {
    "colab": {
      "name": "Day3.ipynb",
      "provenance": [],
      "mount_file_id": "1Q36Wwo6MYtPL6ybLWN0WJqu28v_AslG_",
      "authorship_tag": "ABX9TyNodD0z/vRw/I1W3oF0erzM"
    },
    "kernelspec": {
      "name": "python3",
      "display_name": "Python 3"
    },
    "language_info": {
      "name": "python"
    }
  },
  "cells": [
    {
      "cell_type": "code",
      "metadata": {
        "id": "kppQjpxZ-dNW"
      },
      "source": [
        "import csv\n",
        "\n",
        "reader = csv.reader(open(\"/content/drive/MyDrive/data/Emissions.csv\"))\n",
        "my_dict = {};\n",
        "for row in reader:\n",
        "  i=1\n",
        "  list = []\n",
        "  while i < len(row):\n",
        "    list.append(row[i]);\n",
        "    i += 1\n",
        "\n",
        "  my_dict[row[0]] = list;\n",
        "\n",
        "for i in my_dict :\n",
        "    print(i,\"=\", my_dict[i])"
      ],
      "execution_count": null,
      "outputs": []
    },
    {
      "cell_type": "code",
      "metadata": {
        "id": "k4j3PTErZH6e",
        "colab": {
          "base_uri": "https://localhost:8080/",
          "height": 465
        },
        "outputId": "5d617851-1884-41db-a210-b4c91a370924"
      },
      "source": [
        "\n",
        "import matplotlib.pyplot as plt\n",
        "\n",
        "\n",
        "print(\"A Simple Data Analysis Program\")\n",
        "print()\n",
        "\n",
        "emission_dict = {}\n",
        "\n",
        "with open(\"/content/drive/MyDrive/data/Emissions.csv\", 'r') as file:\n",
        "    for data in file.read().split('\\n'):\n",
        "        emission_dict.update({data.split(',')[0]: data.split(',')[1:]})\n",
        "\n",
        "print(\"All data from Emissions.csv has been read into a dictionary.\", end=\"\\n\\n\")\n",
        "\n",
        "input_year = input(\"Select a year to find statistics (1997 to 2010): \")\n",
        "\n",
        "index_of = int()\n",
        "lines = []\n",
        "\n",
        "for item in emission_dict.values():\n",
        "    if input_year in item:\n",
        "        index_of = (item.index(input_year))\n",
        "\n",
        "total = 0\n",
        "i = 0\n",
        "emissions_in_year = []\n",
        "\n",
        "for value in emission_dict.values():\n",
        "    if i != 0:\n",
        "        total += float(value[index_of])\n",
        "        emissions_in_year.append(list(emission_dict.values())[i][index_of])\n",
        "    i += 1\n",
        "\n",
        "max_country_index = int(emissions_in_year.index(str(max(float(str_value) for str_value in emissions_in_year))))\n",
        "min_country_index = int(emissions_in_year.index(str(min(float(str_value) for str_value in emissions_in_year))))\n",
        "average_emissions = total / 195\n",
        "\n",
        "max_emission = list(emission_dict.keys())[max_country_index + 1]\n",
        "min_emission = list(emission_dict.keys())[min_country_index + 1]\n",
        "\n",
        "print(f'In {input_year}, countries with minimum and maximum CO2 emission levels were: [{min_emission}] '\n",
        "      f'and [{max_emission}] respectively.')\n",
        "print(f'Average CO2 emissions in {input_year} were {\"%.6f\" % round(average_emissions, 6)}')\n",
        "print()\n",
        "\n",
        "\"\"\"\n",
        "Step 1: Take the input from user to visualize data\n",
        "\"\"\"\n",
        "visualize_country = input(\"Select the country to visualize: \")\n",
        "\n",
        "\"\"\"\n",
        "Step 2: Getting the index of Country and passing it to plot function, Setting the Title and Label of Plot\n",
        "\"\"\"\n",
        "# From user entered value we extracted the Index value of country\n",
        "number = list(emission_dict.keys()).index(visualize_country)\n",
        "# Passed that index value to matplotlib plot function. As x value we passed years and as y value we passed emission value\n",
        "plt.plot(list(map(float, list(emission_dict.values())[0])),\n",
        "         list(map(float, list(emission_dict.values())[number])))\n",
        "# Given the Title and Lable to Plot\n",
        "plt.title(\"Year vs Emissions in Capita\")\n",
        "plt.xlabel(\"Year\")\n",
        "plt.ylabel(\"Emissions in \" + visualize_country.title())\n",
        "plt.show()\n",
        "print()\n"
      ],
      "execution_count": 1,
      "outputs": [
        {
          "output_type": "stream",
          "text": [
            "A Simple Data Analysis Program\n",
            "\n",
            "All data from Emissions.csv has been read into a dictionary.\n",
            "\n",
            "Select a year to find statistics (1997 to 2010): 2009\n",
            "In 2009, countries with minimum and maximum CO2 emission levels were: [Burundi] and [Qatar] respectively.\n",
            "Average CO2 emissions in 2009 were 5.188244\n",
            "\n",
            "Select the country to visualize: India\n"
          ],
          "name": "stdout"
        },
        {
          "output_type": "display_data",
          "data": {
            "image/png": "[encoded data removed]",
            "text/plain": [
              "<Figure size 432x288 with 1 Axes>"
            ]
          },
          "metadata": {
            "tags": [],
            "needs_background": "light"
          }
        },
        {
          "output_type": "stream",
          "text": [
            "\n"
          ],
          "name": "stdout"
        }
      ]
    }
  ]
}